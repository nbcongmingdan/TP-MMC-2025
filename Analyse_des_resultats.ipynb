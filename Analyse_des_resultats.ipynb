{
 "cells": [
  {
   "cell_type": "markdown",
   "metadata": {},
   "source": [
    "utiles d'analyse pout TP MMC UGA 2025\n",
    "\n",
    "lien ver les TP en format Markdown:\n",
    "\n",
    "https://github.com/xu-uga-2022/MMC-TP-2025\n",
    "\n",
    "Repo Public, please create a github account to copy and modify files. Thank you very much"
   ]
  },
  {
   "cell_type": "markdown",
   "metadata": {},
   "source": [
    "#### Tension superficielle\n",
    "\n"
   ]
  },
  {
   "cell_type": "markdown",
   "metadata": {},
   "source": [
    "Essayer d'utiliser Python pour analyser automatiquement les données de mesure.\n",
    "\n",
    "en fin, renouveaulez les constant pour le mesure differents"
   ]
  },
  {
   "cell_type": "code",
   "execution_count": null,
   "metadata": {},
   "outputs": [],
   "source": [
    "import pandas as pd\n",
    "import numpy as np\n",
    "import matplotlib.pyplot as plt\n",
    "from scipy.optimize import curve_fit\n",
    "\n",
    "# Définition des constantes\n",
    "g = 9.81  # accélération gravitationnelle (m/s²)\n",
    "rho_water = 998.0  # densité de l'eau (kg/m³), température supposée 20°C\n",
    "rho_alcohol = 789.0  # densité de l'alcool (kg/m³), supposé éthanol\n",
    "\n"
   ]
  },
  {
   "cell_type": "markdown",
   "metadata": {},
   "source": [
    "il faut note les resultats des mesures dans la forme suivante, dans un fichier .csv\n",
    "\n",
    "```\n",
    "diameter_mm,mass_g\n",
    "1.0,0.035\n",
    "1.5,0.052\n",
    "2.0,0.070\n",
    "2.5,0.087\n",
    "```\n"
   ]
  },
  {
   "cell_type": "code",
   "execution_count": null,
   "metadata": {},
   "outputs": [],
   "source": [
    "# 读取CSV数据（输入文件格式：'diameter_mm', 'mass_g'）\n",
    "data = pd.read_csv('droplet_data.csv')\n",
    "\n",
    "# 单独的实验：例如利用直径介于0.5mm至2mm的注射器滴出50滴水\n",
    "# 单位转换：直径(mm) → 半径(m), 质量(g) → 重量(N)\n",
    "data['radius_m'] = data['diameter_mm'] * 1e-3 / 2  # 注射器半径\n",
    "data['weight_N'] = data['mass_g'] * 1e-3 * g  # 滴液重量 (N)\n",
    "\n",
    "# 根据Tate定律计算表面张力 (γ = 重量 / (2πr))\n",
    "data['gamma'] = data['weight_N'] / (2 * np.pi * data['radius_m'])\n",
    "\n",
    "# 输出计算结果\n",
    "print(\"计算得到的表面张力：\")\n",
    "print(data[['diameter_mm', 'gamma']])\n",
    "\n",
    "\n"
   ]
  },
  {
   "cell_type": "markdown",
   "metadata": {},
   "source": []
  },
  {
   "cell_type": "code",
   "execution_count": null,
   "metadata": {},
   "outputs": [],
   "source": [
    "\n",
    "# Visualisation\n",
    "plt.figure(figsize=(10, 5))\n",
    "plt.plot(data['diameter_mm'], data['gamma'], 'bo-', label='滴液')\n",
    "plt.xlabel('diametre (mm)')\n",
    "plt.ylabel('tension superficielle (N/m)')\n",
    "plt.title('Tension superficielle par la méthode d’arra-chement')\n",
    "plt.legend()\n",
    "plt.grid()\n",
    "plt.show()\n",
    "\n",
    "# correction de la loi de Tate, avec un coefficient C\n",
    "def tate_law(r, gamma, C):\n",
    "    return C * 2 * np.pi * r * gamma / g  # 修正后的Tate定律\n",
    "\n",
    "# curve_fit() fonction, pour ajuster les paramètres de la loi de Tate\n",
    "popt, _ = curve_fit(tate_law, data['radius_m'], data['mass_g'] * 1e-3)\n",
    "print(f\"tension superficielle apres correction: {popt[0]:.4f} N/m, coefficient C = {popt[1]:.2f}\")"
   ]
  },
  {
   "cell_type": "code",
   "execution_count": null,
   "metadata": {},
   "outputs": [],
   "source": [
    "from sklearn.metrics import mean_squared_error\n",
    "\n",
    "# 使用拟合参数预测质量（单位：kg）\n",
    "predicted_mass_kg = tate_law(data['radius_m'], *popt)\n",
    "\n",
    "# 实际质量（单位：kg）\n",
    "actual_mass_kg = data['mass_g'] * 1e-3\n",
    "\n",
    "# 计算 MSE（均方误差）\n",
    "mse = mean_squared_error(actual_mass_kg, predicted_mass_kg)\n",
    "\n",
    "print(f\"mean square error (MSE): {mse:.6e} kg²\")\n"
   ]
  },
  {
   "cell_type": "code",
   "execution_count": null,
   "metadata": {},
   "outputs": [],
   "source": []
  },
  {
   "cell_type": "code",
   "execution_count": null,
   "metadata": {},
   "outputs": [],
   "source": []
  },
  {
   "cell_type": "code",
   "execution_count": null,
   "metadata": {},
   "outputs": [],
   "source": []
  },
  {
   "cell_type": "code",
   "execution_count": null,
   "metadata": {},
   "outputs": [],
   "source": []
  },
  {
   "cell_type": "code",
   "execution_count": null,
   "metadata": {},
   "outputs": [],
   "source": []
  },
  {
   "cell_type": "code",
   "execution_count": null,
   "metadata": {},
   "outputs": [],
   "source": []
  },
  {
   "cell_type": "markdown",
   "metadata": {},
   "source": [
    "### Loi de Poisueill\n",
    "\n",
    "utilize une document .csv pour note les resultats.\n",
    "\n",
    "example:\n",
    "```\n",
    "1.0\n",
    "0.8\n",
    "0.5\n",
    "0.3\n",
    "......\n",
    "```"
   ]
  },
  {
   "cell_type": "code",
   "execution_count": null,
   "metadata": {},
   "outputs": [],
   "source": []
  },
  {
   "cell_type": "code",
   "execution_count": null,
   "metadata": {},
   "outputs": [],
   "source": []
  },
  {
   "cell_type": "code",
   "execution_count": null,
   "metadata": {},
   "outputs": [],
   "source": [
    "# read data\n",
    "poisueill_data = pd.read_csv('poisueill_data.csv', header=None, names=['height_cm'])\n",
    "# transvers l'attitude a difference de pression\n",
    "poisueill_data['pressure_Pa'] = rho_water * g * (poisueill_data['height_cm'] / 100)\n",
    "# 计算相邻管之间的高度差及对应的压降差\n",
    "poisueill_data['height_diff_cm'] = poisueill_data['height_cm'].diff()\n",
    "poisueill_data['pressure_diff_Pa'] = poisueill_data['pressure_Pa'].diff()\n",
    "# Distance entre les tubes verticaux en METTRE\n",
    "tube_spacing_m = 0.05\n",
    "poisueill_data['pressure_gradient_Pa_per_m'] = poisueill_data['pressure_diff_Pa'] / tube_spacing_m\n",
    "# 水流量数据：假设每分钟水流量为5升，将其转换为 m³/s\n",
    "flow_rate_lpm = 5\n",
    "# volume flow rate (Litre/minute) → flow rate (m³/s)\n",
    "flow_rate_m3_s = (flow_rate_lpm / 1000) / 60\n",
    "# output\n",
    "print(\"Poisueill experiment: Hateur dans les tube verticaux et pertes de charges：\")\n",
    "print(poisueill_data)\n",
    "print(f\"Flow：{flow_rate_m3_s:.6f} m³/s\")"
   ]
  },
  {
   "cell_type": "markdown",
   "metadata": {},
   "source": [
    "### Seuil en V\n",
    "\n"
   ]
  },
  {
   "cell_type": "code",
   "execution_count": null,
   "metadata": {},
   "outputs": [],
   "source": []
  },
  {
   "cell_type": "code",
   "execution_count": null,
   "metadata": {},
   "outputs": [],
   "source": []
  },
  {
   "cell_type": "code",
   "execution_count": null,
   "metadata": {},
   "outputs": [],
   "source": []
  }
 ],
 "metadata": {
  "kernelspec": {
   "display_name": "daily",
   "language": "python",
   "name": "python3"
  },
  "language_info": {
   "name": "python",
   "version": "3.10.14"
  }
 },
 "nbformat": 4,
 "nbformat_minor": 2
}
