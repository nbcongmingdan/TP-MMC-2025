{
 "cells": [
  {
   "cell_type": "markdown",
   "metadata": {},
   "source": [
    "utiles d'analyse pout TP MMC UGA 2025\n",
    "\n",
    "lien ver les TP en format Markdown:\n",
    "\n",
    "https://github.com/xu-uga-2022/MMC-TP-2025\n",
    "\n",
    "Repo Public, please create a github account to copy and modify files. Thank you very much"
   ]
  },
  {
   "cell_type": "markdown",
   "metadata": {},
   "source": []
  },
  {
   "cell_type": "code",
   "execution_count": null,
   "metadata": {},
   "outputs": [],
   "source": []
  }
 ],
 "metadata": {
  "kernelspec": {
   "display_name": "daily",
   "language": "python",
   "name": "python3"
  },
  "language_info": {
   "name": "python",
   "version": "3.10.14"
  }
 },
 "nbformat": 4,
 "nbformat_minor": 2
}
